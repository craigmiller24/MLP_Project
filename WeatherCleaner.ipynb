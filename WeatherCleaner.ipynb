{
 "cells": [
  {
   "cell_type": "markdown",
   "metadata": {},
   "source": []
  },
  {
   "cell_type": "code",
   "execution_count": null,
   "metadata": {},
   "outputs": [],
   "source": [
    "import pandas as pd\n",
    "import numpy as np"
   ]
  },
  {
   "cell_type": "code",
   "execution_count": null,
   "metadata": {},
   "outputs": [],
   "source": [
    "airport = 'MIA'\n",
    "df = pd.read_csv(f'data/Weather/{airport}_Weather.csv')\n"
   ]
  },
  {
   "cell_type": "code",
   "execution_count": null,
   "metadata": {},
   "outputs": [],
   "source": [
    "df = df.fillna(0)\n",
    "df = df.dropna()\n",
    "df.info()"
   ]
  },
  {
   "cell_type": "code",
   "execution_count": null,
   "metadata": {},
   "outputs": [],
   "source": [
    "df"
   ]
  },
  {
   "cell_type": "code",
   "execution_count": 5,
   "metadata": {},
   "outputs": [],
   "source": [
    "# Convert the 'HourlyWindDirection' values to integers\n",
    "df['HourlyWindDirection'] = df['HourlyWindDirection'].str.replace('VRB', '0')\n",
    "df['HourlyWindDirection'] = df['HourlyWindDirection'].astype(float)\n",
    "\n",
    "# Take the angle values (degrees) in 'HourlyWindDirection' and convert it to sin and cos and create new columns called 'HOURLYWindDirectionSin' and 'HOURLYWindDirectionCos'\n",
    "df['HOURLYWindDirectionSin'] = np.sin(np.deg2rad(df['HourlyWindDirection']))\n",
    "df['HOURLYWindDirectionCos'] = np.cos(np.deg2rad(df['HourlyWindDirection']))"
   ]
  },
  {
   "cell_type": "code",
   "execution_count": 6,
   "metadata": {},
   "outputs": [],
   "source": [
    "df.drop(['HourlyWindDirection'], axis=1, inplace=True)"
   ]
  },
  {
   "cell_type": "code",
   "execution_count": 7,
   "metadata": {},
   "outputs": [],
   "source": [
    "df.drop(['HourlyPressureChange'], axis=1, inplace=True)"
   ]
  },
  {
   "cell_type": "code",
   "execution_count": 8,
   "metadata": {},
   "outputs": [],
   "source": [
    "# Reformat the DATE column to datetime\n",
    "df['DATE'] = pd.to_datetime(df['DATE'])"
   ]
  },
  {
   "cell_type": "code",
   "execution_count": 9,
   "metadata": {},
   "outputs": [],
   "source": [
    "# Replace the 'T' (Trace) values in the 'HOURLYVISIBILITY' column with 0.005\n",
    "df['HOURLYVISIBILITY'] = df['HOURLYVISIBILITY'].replace('T', 0.005)\n",
    "df['HOURLYPrecip'] = df['HOURLYPrecip'].replace('T', 0.005)"
   ]
  },
  {
   "cell_type": "code",
   "execution_count": 10,
   "metadata": {},
   "outputs": [],
   "source": [
    "# Remove all non numeric values from the dataframe\n",
    "df = df.apply(pd.to_numeric, errors='coerce')\n",
    "df = df.dropna()"
   ]
  },
  {
   "cell_type": "code",
   "execution_count": 11,
   "metadata": {},
   "outputs": [],
   "source": [
    "df['DATE'] = pd.to_datetime(df['DATE'])\n",
    "df['HOURLYAltimeterSetting'] = df['HOURLYAltimeterSetting'].astype(float)\n",
    "df['HOURLYDewPointTempF'] = df['HOURLYDewPointTempF'].astype(float)\n",
    "df['HOURLYDRYBULBTEMPF'] = df['HOURLYDRYBULBTEMPF'].astype(float)\n",
    "df['HOURLYPrecip'] = df['HOURLYPrecip'].astype(float)\n",
    "df['HourlyPressureTendency'] = df['HourlyPressureTendency'].astype(float)\n",
    "df['HOURLYRelativeHumidity'] = df['HOURLYRelativeHumidity'].astype(float)\n",
    "df['HOURLYSeaLevelPressure'] = df['HOURLYSeaLevelPressure'].astype(float)\n",
    "df['HOURLYStationPressure'] = df['HOURLYStationPressure'].astype(float)\n",
    "df['HOURLYVISIBILITY'] = df['HOURLYVISIBILITY'].astype(float)\n",
    "df['HOURLYWETBULBTEMPF'] = df['HOURLYWETBULBTEMPF'].astype(float)\n",
    "df['HOURLYWindSpeed'] = df['HOURLYWindSpeed'].astype(float)"
   ]
  },
  {
   "cell_type": "code",
   "execution_count": null,
   "metadata": {},
   "outputs": [],
   "source": [
    "df"
   ]
  },
  {
   "cell_type": "code",
   "execution_count": 13,
   "metadata": {},
   "outputs": [],
   "source": [
    "# Create three new columns called 'HOURLYPressureTendencyIncr', 'HOURLYPressureTendencyDecr', 'HOURLYPressureTendencyCons' and where the value in 'HourlyPressureTendency' has increased, decreased or remained constant respectively from the previous row, assign a value of 1 to the corresponding column and 0 to the other two columns\n",
    "df['HOURLYPressureTendencyIncr'] = np.where(df['HourlyPressureTendency'] > df['HourlyPressureTendency'].shift(1), 1, 0)\n",
    "df['HOURLYPressureTendencyDecr'] = np.where(df['HourlyPressureTendency'] < df['HourlyPressureTendency'].shift(1), 1, 0)\n",
    "df['HOURLYPressureTendencyCons'] = np.where(df['HourlyPressureTendency'] == df['HourlyPressureTendency'].shift(1), 1, 0)\n",
    "df.drop(['HourlyPressureTendency'], axis=1, inplace=True)\n"
   ]
  },
  {
   "cell_type": "code",
   "execution_count": null,
   "metadata": {},
   "outputs": [],
   "source": [
    "df"
   ]
  },
  {
   "cell_type": "code",
   "execution_count": 15,
   "metadata": {},
   "outputs": [],
   "source": [
    "df.to_csv(f'data/Weather/{airport}_Weather_cleaned.csv', index=False)"
   ]
  }
 ],
 "metadata": {
  "kernelspec": {
   "display_name": "mlp",
   "language": "python",
   "name": "python3"
  },
  "language_info": {
   "codemirror_mode": {
    "name": "ipython",
    "version": 3
   },
   "file_extension": ".py",
   "mimetype": "text/x-python",
   "name": "python",
   "nbconvert_exporter": "python",
   "pygments_lexer": "ipython3",
   "version": "3.12.5"
  }
 },
 "nbformat": 4,
 "nbformat_minor": 2
}
