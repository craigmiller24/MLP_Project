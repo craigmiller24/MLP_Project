{
 "cells": [
  {
   "cell_type": "code",
   "execution_count": 1,
   "metadata": {},
   "outputs": [
    {
     "name": "stdout",
     "output_type": "stream",
     "text": [
      "Intel MKL WARNING: Support of Intel(R) Streaming SIMD Extensions 4.2 (Intel(R) SSE4.2) enabled only processors has been deprecated. Intel oneAPI Math Kernel Library 2025.0 will require Intel(R) Advanced Vector Extensions (Intel(R) AVX) instructions.\n",
      "Intel MKL WARNING: Support of Intel(R) Streaming SIMD Extensions 4.2 (Intel(R) SSE4.2) enabled only processors has been deprecated. Intel oneAPI Math Kernel Library 2025.0 will require Intel(R) Advanced Vector Extensions (Intel(R) AVX) instructions.\n"
     ]
    }
   ],
   "source": [
    "import pandas as pd\n",
    "import numpy as np\n",
    "import matplotlib.pyplot as plt"
   ]
  },
  {
   "cell_type": "code",
   "execution_count": 10,
   "metadata": {},
   "outputs": [],
   "source": [
    "for yy in range(10,19):\n",
    "    for mm in range(1,13):\n",
    "        if yy == 18 and mm == 8:\n",
    "            break\n",
    "        if mm < 10:\n",
    "            mm = f'0{mm}'\n",
    "\n",
    "        df = pd.read_csv(f'data/raw/JFK_{mm}_{yy}.csv', sep=',')\n",
    "        df = df.dropna()\n",
    "        df = df.drop_duplicates()\n",
    "        df = df.drop(df[df['ORIGIN'] != 'JFK'].index)\n",
    "        df.to_csv(f'data/clean/JFK_{mm}_{yy}.csv', index=False)"
   ]
  },
  {
   "cell_type": "code",
   "execution_count": 14,
   "metadata": {},
   "outputs": [],
   "source": [
    "full_df = pd.DataFrame()\n",
    "\n",
    "for yy in range(10,19):\n",
    "    for mm in range(1,13):\n",
    "        if yy == 18 and mm == 8:\n",
    "            break\n",
    "        if mm < 10:\n",
    "            mm = f'0{mm}'\n",
    "\n",
    "        df = pd.read_csv(f'data/clean/JFK_{mm}_{yy}.csv', sep=',')\n",
    "        full_df = pd.concat([full_df, df])\n",
    "        full_df.to_csv('data/clean/full.csv', index=False)"
   ]
  },
  {
   "cell_type": "code",
   "execution_count": null,
   "metadata": {},
   "outputs": [],
   "source": []
  }
 ],
 "metadata": {
  "kernelspec": {
   "display_name": "mlp",
   "language": "python",
   "name": "python3"
  },
  "language_info": {
   "codemirror_mode": {
    "name": "ipython",
    "version": 3
   },
   "file_extension": ".py",
   "mimetype": "text/x-python",
   "name": "python",
   "nbconvert_exporter": "python",
   "pygments_lexer": "ipython3",
   "version": "3.12.5"
  }
 },
 "nbformat": 4,
 "nbformat_minor": 2
}
